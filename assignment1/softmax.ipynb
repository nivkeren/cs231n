{
 "cells": [
  {
   "cell_type": "markdown",
   "metadata": {},
   "source": [
    "# Softmax exercise\n",
    "\n",
    "*Complete and hand in this completed worksheet (including its outputs and any supporting code outside of the worksheet) with your assignment submission. For more details see the [assignments page](http://vision.stanford.edu/teaching/cs231n/assignments.html) on the course website.*\n",
    "\n",
    "This exercise is analogous to the SVM exercise. You will:\n",
    "\n",
    "- implement a fully-vectorized **loss function** for the Softmax classifier\n",
    "- implement the fully-vectorized expression for its **analytic gradient**\n",
    "- **check your implementation** with numerical gradient\n",
    "- use a validation set to **tune the learning rate and regularization** strength\n",
    "- **optimize** the loss function with **SGD**\n",
    "- **visualize** the final learned weights\n"
   ]
  },
  {
   "cell_type": "code",
   "execution_count": 1,
   "metadata": {},
   "outputs": [],
   "source": [
    "import random\n",
    "import numpy as np\n",
    "from cs231n.data_utils import load_CIFAR10\n",
    "import matplotlib.pyplot as plt\n",
    "\n",
    "from __future__ import print_function\n",
    "\n",
    "%matplotlib inline\n",
    "plt.rcParams['figure.figsize'] = (10.0, 8.0) # set default size of plots\n",
    "plt.rcParams['image.interpolation'] = 'nearest'\n",
    "plt.rcParams['image.cmap'] = 'gray'\n",
    "\n",
    "# for auto-reloading extenrnal modules\n",
    "# see http://stackoverflow.com/questions/1907993/autoreload-of-modules-in-ipython\n",
    "%load_ext autoreload\n",
    "%autoreload 2"
   ]
  },
  {
   "cell_type": "code",
   "execution_count": 2,
   "metadata": {},
   "outputs": [
    {
     "name": "stdout",
     "output_type": "stream",
     "text": [
      "Train data shape:  (49000, 3073)\n",
      "Train labels shape:  (49000,)\n",
      "Validation data shape:  (1000, 3073)\n",
      "Validation labels shape:  (1000,)\n",
      "Test data shape:  (1000, 3073)\n",
      "Test labels shape:  (1000,)\n",
      "dev data shape:  (500, 3073)\n",
      "dev labels shape:  (500,)\n"
     ]
    }
   ],
   "source": [
    "def get_CIFAR10_data(num_training=49000, num_validation=1000, num_test=1000, num_dev=500):\n",
    "    \"\"\"\n",
    "    Load the CIFAR-10 dataset from disk and perform preprocessing to prepare\n",
    "    it for the linear classifier. These are the same steps as we used for the\n",
    "    SVM, but condensed to a single function.  \n",
    "    \"\"\"\n",
    "    # Load the raw CIFAR-10 data\n",
    "    cifar10_dir = 'cs231n/datasets/cifar-10-batches-py'\n",
    "    \n",
    "    X_train, y_train, X_test, y_test = load_CIFAR10(cifar10_dir)\n",
    "    \n",
    "    # subsample the data\n",
    "    mask = list(range(num_training, num_training + num_validation))\n",
    "    X_val = X_train[mask]\n",
    "    y_val = y_train[mask]\n",
    "    mask = list(range(num_training))\n",
    "    X_train = X_train[mask]\n",
    "    y_train = y_train[mask]\n",
    "    mask = list(range(num_test))\n",
    "    X_test = X_test[mask]\n",
    "    y_test = y_test[mask]\n",
    "    mask = np.random.choice(num_training, num_dev, replace=False)\n",
    "    X_dev = X_train[mask]\n",
    "    y_dev = y_train[mask]\n",
    "    \n",
    "    # Preprocessing: reshape the image data into rows\n",
    "    X_train = np.reshape(X_train, (X_train.shape[0], -1))\n",
    "    X_val = np.reshape(X_val, (X_val.shape[0], -1))\n",
    "    X_test = np.reshape(X_test, (X_test.shape[0], -1))\n",
    "    X_dev = np.reshape(X_dev, (X_dev.shape[0], -1))\n",
    "    \n",
    "    # Normalize the data: subtract the mean image\n",
    "    mean_image = np.mean(X_train, axis = 0)\n",
    "    X_train -= mean_image\n",
    "    X_val -= mean_image\n",
    "    X_test -= mean_image\n",
    "    X_dev -= mean_image\n",
    "    \n",
    "    # add bias dimension and transform into columns\n",
    "    X_train = np.hstack([X_train, np.ones((X_train.shape[0], 1))])\n",
    "    X_val = np.hstack([X_val, np.ones((X_val.shape[0], 1))])\n",
    "    X_test = np.hstack([X_test, np.ones((X_test.shape[0], 1))])\n",
    "    X_dev = np.hstack([X_dev, np.ones((X_dev.shape[0], 1))])\n",
    "    \n",
    "    return X_train, y_train, X_val, y_val, X_test, y_test, X_dev, y_dev\n",
    "\n",
    "\n",
    "# Cleaning up variables to prevent loading data multiple times (which may cause memory issue)\n",
    "try:\n",
    "   del X_train, y_train\n",
    "   del X_test, y_test\n",
    "   print('Clear previously loaded data.')\n",
    "except:\n",
    "   pass\n",
    "\n",
    "# Invoke the above function to get our data.\n",
    "X_train, y_train, X_val, y_val, X_test, y_test, X_dev, y_dev = get_CIFAR10_data()\n",
    "print('Train data shape: ', X_train.shape)\n",
    "print('Train labels shape: ', y_train.shape)\n",
    "print('Validation data shape: ', X_val.shape)\n",
    "print('Validation labels shape: ', y_val.shape)\n",
    "print('Test data shape: ', X_test.shape)\n",
    "print('Test labels shape: ', y_test.shape)\n",
    "print('dev data shape: ', X_dev.shape)\n",
    "print('dev labels shape: ', y_dev.shape)"
   ]
  },
  {
   "cell_type": "markdown",
   "metadata": {},
   "source": [
    "## Softmax Classifier\n",
    "\n",
    "Your code for this section will all be written inside **cs231n/classifiers/softmax.py**. \n"
   ]
  },
  {
   "cell_type": "code",
   "execution_count": 5,
   "metadata": {},
   "outputs": [
    {
     "name": "stdout",
     "output_type": "stream",
     "text": [
      "loss: 2.372253\n",
      "sanity check: 2.302585\n"
     ]
    }
   ],
   "source": [
    "# First implement the naive softmax loss function with nested loops.\n",
    "# Open the file cs231n/classifiers/softmax.py and implement the\n",
    "# softmax_loss_naive function.\n",
    "\n",
    "from cs231n.classifiers.softmax import softmax_loss_naive\n",
    "import time\n",
    "\n",
    "# Generate a random softmax weight matrix and use it to compute the loss.\n",
    "W = np.random.randn(3073, 10) * 0.0001\n",
    "loss, grad = softmax_loss_naive(W, X_dev, y_dev, 0.0)\n",
    "\n",
    "# As a rough sanity check, our loss should be something close to -log(0.1).\n",
    "print('loss: %f' % loss)\n",
    "print('sanity check: %f' % (-np.log(0.1)))"
   ]
  },
  {
   "cell_type": "markdown",
   "metadata": {},
   "source": [
    "## Inline Question 1:\n",
    "Why do we expect our loss to be close to -log(0.1)? **Explain briefly.**\n",
    "\n",
    "**Your answer:** *Fill this in*\n"
   ]
  },
  {
   "cell_type": "code",
   "execution_count": 19,
   "metadata": {},
   "outputs": [
    {
     "name": "stdout",
     "output_type": "stream",
     "text": [
      "numerical: -1.500392 analytic: -1.500392, relative error: 2.783369e-08\n",
      "numerical: -4.057345 analytic: -4.057345, relative error: 8.134488e-09\n",
      "numerical: -0.573791 analytic: -0.573791, relative error: 5.665509e-08\n",
      "numerical: -0.972827 analytic: -0.972827, relative error: 1.372901e-07\n",
      "numerical: 1.429304 analytic: 1.429304, relative error: 1.397913e-08\n",
      "numerical: -3.276134 analytic: -3.276134, relative error: 2.711117e-09\n",
      "numerical: 1.801400 analytic: 1.801399, relative error: 5.543066e-08\n",
      "numerical: 3.344132 analytic: 3.344132, relative error: 2.345832e-08\n",
      "numerical: -2.075925 analytic: -2.075925, relative error: 5.731973e-09\n",
      "numerical: 1.511759 analytic: 1.511759, relative error: 2.308952e-08\n",
      "numerical: -0.640973 analytic: -0.640973, relative error: 8.338528e-09\n",
      "numerical: 0.371049 analytic: 0.371049, relative error: 9.141903e-08\n",
      "numerical: 2.570355 analytic: 2.570355, relative error: 1.782499e-08\n",
      "numerical: -2.425067 analytic: -2.425067, relative error: 4.469616e-08\n",
      "numerical: 0.298202 analytic: 0.298202, relative error: 1.495666e-07\n",
      "numerical: -1.571757 analytic: -1.571757, relative error: 2.300910e-08\n",
      "numerical: -0.630107 analytic: -0.630108, relative error: 1.019623e-07\n",
      "numerical: -0.827810 analytic: -0.827810, relative error: 1.501950e-08\n",
      "numerical: 1.973266 analytic: 1.973266, relative error: 3.102084e-08\n",
      "numerical: 2.640265 analytic: 2.640265, relative error: 1.442096e-08\n"
     ]
    }
   ],
   "source": [
    "# Complete the implementation of softmax_loss_naive and implement a (naive)\n",
    "# version of the gradient that uses nested loops.\n",
    "loss, grad = softmax_loss_naive(W, X_dev, y_dev, 0.0)\n",
    "\n",
    "# As we did for the SVM, use numeric gradient checking as a debugging tool.\n",
    "# The numeric gradient should be close to the analytic gradient.\n",
    "from cs231n.gradient_check import grad_check_sparse\n",
    "f = lambda w: softmax_loss_naive(w, X_dev, y_dev, 0.0)[0]\n",
    "grad_numerical = grad_check_sparse(f, W, grad, 10)\n",
    "\n",
    "# similar to SVM case, do another gradient check with regularization\n",
    "loss, grad = softmax_loss_naive(W, X_dev, y_dev, 5e1)\n",
    "f = lambda w: softmax_loss_naive(w, X_dev, y_dev, 5e1)[0]\n",
    "grad_numerical = grad_check_sparse(f, W, grad, 10)"
   ]
  },
  {
   "cell_type": "code",
   "execution_count": 20,
   "metadata": {},
   "outputs": [
    {
     "name": "stdout",
     "output_type": "stream",
     "text": [
      "naive loss: 2.372253e+00 computed in 0.226435s\n",
      "vectorized loss: 2.372253e+00 computed in 0.004135s\n",
      "Loss difference: 0.000000\n",
      "Gradient difference: 0.000000\n"
     ]
    }
   ],
   "source": [
    "# Now that we have a naive implementation of the softmax loss function and its gradient,\n",
    "# implement a vectorized version in softmax_loss_vectorized.\n",
    "# The two versions should compute the same results, but the vectorized version should be\n",
    "# much faster.\n",
    "tic = time.time()\n",
    "loss_naive, grad_naive = softmax_loss_naive(W, X_dev, y_dev, 0.000005)\n",
    "toc = time.time()\n",
    "print('naive loss: %e computed in %fs' % (loss_naive, toc - tic))\n",
    "\n",
    "from cs231n.classifiers.softmax import softmax_loss_vectorized\n",
    "tic = time.time()\n",
    "loss_vectorized, grad_vectorized = softmax_loss_vectorized(W, X_dev, y_dev, 0.000005)\n",
    "toc = time.time()\n",
    "print('vectorized loss: %e computed in %fs' % (loss_vectorized, toc - tic))\n",
    "\n",
    "# As we did for the SVM, we use the Frobenius norm to compare the two versions\n",
    "# of the gradient.\n",
    "grad_difference = np.linalg.norm(grad_naive - grad_vectorized, ord='fro')\n",
    "print('Loss difference: %f' % np.abs(loss_naive - loss_vectorized))\n",
    "print('Gradient difference: %f' % grad_difference)"
   ]
  },
  {
   "cell_type": "code",
   "execution_count": 24,
   "metadata": {},
   "outputs": [
    {
     "name": "stdout",
     "output_type": "stream",
     "text": [
      "lr 1.000000e-07 reg 2.500000e+04 train accuracy: 0.329082 val accuracy: 0.342000\n",
      "lr 1.000000e-07 reg 2.777778e+04 train accuracy: 0.330857 val accuracy: 0.336000\n",
      "lr 1.000000e-07 reg 3.055556e+04 train accuracy: 0.322776 val accuracy: 0.339000\n",
      "lr 1.000000e-07 reg 3.333333e+04 train accuracy: 0.327673 val accuracy: 0.339000\n",
      "lr 1.000000e-07 reg 3.611111e+04 train accuracy: 0.333265 val accuracy: 0.354000\n",
      "lr 1.000000e-07 reg 3.888889e+04 train accuracy: 0.330755 val accuracy: 0.340000\n",
      "lr 1.000000e-07 reg 4.166667e+04 train accuracy: 0.328122 val accuracy: 0.337000\n",
      "lr 1.000000e-07 reg 4.444444e+04 train accuracy: 0.327510 val accuracy: 0.347000\n",
      "lr 1.000000e-07 reg 4.722222e+04 train accuracy: 0.325367 val accuracy: 0.343000\n",
      "lr 1.000000e-07 reg 5.000000e+04 train accuracy: 0.331490 val accuracy: 0.340000\n",
      "lr 1.444444e-07 reg 2.500000e+04 train accuracy: 0.331327 val accuracy: 0.345000\n",
      "lr 1.444444e-07 reg 2.777778e+04 train accuracy: 0.331673 val accuracy: 0.350000\n",
      "lr 1.444444e-07 reg 3.055556e+04 train accuracy: 0.329816 val accuracy: 0.341000\n",
      "lr 1.444444e-07 reg 3.333333e+04 train accuracy: 0.328082 val accuracy: 0.340000\n",
      "lr 1.444444e-07 reg 3.611111e+04 train accuracy: 0.327592 val accuracy: 0.345000\n",
      "lr 1.444444e-07 reg 3.888889e+04 train accuracy: 0.330857 val accuracy: 0.338000\n",
      "lr 1.444444e-07 reg 4.166667e+04 train accuracy: 0.328612 val accuracy: 0.342000\n",
      "lr 1.444444e-07 reg 4.444444e+04 train accuracy: 0.330061 val accuracy: 0.341000\n",
      "lr 1.444444e-07 reg 4.722222e+04 train accuracy: 0.327265 val accuracy: 0.339000\n",
      "lr 1.444444e-07 reg 5.000000e+04 train accuracy: 0.326510 val accuracy: 0.346000\n",
      "lr 1.888889e-07 reg 2.500000e+04 train accuracy: 0.325510 val accuracy: 0.337000\n",
      "lr 1.888889e-07 reg 2.777778e+04 train accuracy: 0.328000 val accuracy: 0.346000\n",
      "lr 1.888889e-07 reg 3.055556e+04 train accuracy: 0.326959 val accuracy: 0.342000\n",
      "lr 1.888889e-07 reg 3.333333e+04 train accuracy: 0.334000 val accuracy: 0.340000\n",
      "lr 1.888889e-07 reg 3.611111e+04 train accuracy: 0.324469 val accuracy: 0.336000\n",
      "lr 1.888889e-07 reg 3.888889e+04 train accuracy: 0.327816 val accuracy: 0.345000\n",
      "lr 1.888889e-07 reg 4.166667e+04 train accuracy: 0.331694 val accuracy: 0.344000\n",
      "lr 1.888889e-07 reg 4.444444e+04 train accuracy: 0.329347 val accuracy: 0.345000\n",
      "lr 1.888889e-07 reg 4.722222e+04 train accuracy: 0.332204 val accuracy: 0.354000\n",
      "lr 1.888889e-07 reg 5.000000e+04 train accuracy: 0.328041 val accuracy: 0.337000\n",
      "lr 2.333333e-07 reg 2.500000e+04 train accuracy: 0.332816 val accuracy: 0.351000\n",
      "lr 2.333333e-07 reg 2.777778e+04 train accuracy: 0.330776 val accuracy: 0.339000\n",
      "lr 2.333333e-07 reg 3.055556e+04 train accuracy: 0.329449 val accuracy: 0.343000\n",
      "lr 2.333333e-07 reg 3.333333e+04 train accuracy: 0.328490 val accuracy: 0.348000\n",
      "lr 2.333333e-07 reg 3.611111e+04 train accuracy: 0.327490 val accuracy: 0.346000\n",
      "lr 2.333333e-07 reg 3.888889e+04 train accuracy: 0.334694 val accuracy: 0.349000\n",
      "lr 2.333333e-07 reg 4.166667e+04 train accuracy: 0.329204 val accuracy: 0.341000\n",
      "lr 2.333333e-07 reg 4.444444e+04 train accuracy: 0.332612 val accuracy: 0.349000\n",
      "lr 2.333333e-07 reg 4.722222e+04 train accuracy: 0.328755 val accuracy: 0.341000\n",
      "lr 2.333333e-07 reg 5.000000e+04 train accuracy: 0.326612 val accuracy: 0.342000\n",
      "lr 2.777778e-07 reg 2.500000e+04 train accuracy: 0.327633 val accuracy: 0.343000\n",
      "lr 2.777778e-07 reg 2.777778e+04 train accuracy: 0.327143 val accuracy: 0.348000\n",
      "lr 2.777778e-07 reg 3.055556e+04 train accuracy: 0.327673 val accuracy: 0.338000\n",
      "lr 2.777778e-07 reg 3.333333e+04 train accuracy: 0.326449 val accuracy: 0.350000\n",
      "lr 2.777778e-07 reg 3.611111e+04 train accuracy: 0.330449 val accuracy: 0.344000\n",
      "lr 2.777778e-07 reg 3.888889e+04 train accuracy: 0.331918 val accuracy: 0.346000\n",
      "lr 2.777778e-07 reg 4.166667e+04 train accuracy: 0.334388 val accuracy: 0.347000\n",
      "lr 2.777778e-07 reg 4.444444e+04 train accuracy: 0.326122 val accuracy: 0.344000\n",
      "lr 2.777778e-07 reg 4.722222e+04 train accuracy: 0.328714 val accuracy: 0.343000\n",
      "lr 2.777778e-07 reg 5.000000e+04 train accuracy: 0.327408 val accuracy: 0.345000\n",
      "lr 3.222222e-07 reg 2.500000e+04 train accuracy: 0.328265 val accuracy: 0.348000\n",
      "lr 3.222222e-07 reg 2.777778e+04 train accuracy: 0.328429 val accuracy: 0.347000\n",
      "lr 3.222222e-07 reg 3.055556e+04 train accuracy: 0.325184 val accuracy: 0.339000\n",
      "lr 3.222222e-07 reg 3.333333e+04 train accuracy: 0.322408 val accuracy: 0.345000\n",
      "lr 3.222222e-07 reg 3.611111e+04 train accuracy: 0.327347 val accuracy: 0.340000\n",
      "lr 3.222222e-07 reg 3.888889e+04 train accuracy: 0.327286 val accuracy: 0.343000\n",
      "lr 3.222222e-07 reg 4.166667e+04 train accuracy: 0.330122 val accuracy: 0.346000\n",
      "lr 3.222222e-07 reg 4.444444e+04 train accuracy: 0.326714 val accuracy: 0.342000\n",
      "lr 3.222222e-07 reg 4.722222e+04 train accuracy: 0.330245 val accuracy: 0.340000\n",
      "lr 3.222222e-07 reg 5.000000e+04 train accuracy: 0.332224 val accuracy: 0.348000\n",
      "lr 3.666667e-07 reg 2.500000e+04 train accuracy: 0.332592 val accuracy: 0.348000\n",
      "lr 3.666667e-07 reg 2.777778e+04 train accuracy: 0.332531 val accuracy: 0.348000\n",
      "lr 3.666667e-07 reg 3.055556e+04 train accuracy: 0.334816 val accuracy: 0.344000\n",
      "lr 3.666667e-07 reg 3.333333e+04 train accuracy: 0.327184 val accuracy: 0.341000\n",
      "lr 3.666667e-07 reg 3.611111e+04 train accuracy: 0.333551 val accuracy: 0.344000\n",
      "lr 3.666667e-07 reg 3.888889e+04 train accuracy: 0.332694 val accuracy: 0.346000\n",
      "lr 3.666667e-07 reg 4.166667e+04 train accuracy: 0.331653 val accuracy: 0.336000\n",
      "lr 3.666667e-07 reg 4.444444e+04 train accuracy: 0.328612 val accuracy: 0.344000\n",
      "lr 3.666667e-07 reg 4.722222e+04 train accuracy: 0.334551 val accuracy: 0.351000\n",
      "lr 3.666667e-07 reg 5.000000e+04 train accuracy: 0.327367 val accuracy: 0.339000\n",
      "lr 4.111111e-07 reg 2.500000e+04 train accuracy: 0.328816 val accuracy: 0.340000\n",
      "lr 4.111111e-07 reg 2.777778e+04 train accuracy: 0.326633 val accuracy: 0.343000\n",
      "lr 4.111111e-07 reg 3.055556e+04 train accuracy: 0.325571 val accuracy: 0.340000\n",
      "lr 4.111111e-07 reg 3.333333e+04 train accuracy: 0.333000 val accuracy: 0.345000\n",
      "lr 4.111111e-07 reg 3.611111e+04 train accuracy: 0.323469 val accuracy: 0.346000\n",
      "lr 4.111111e-07 reg 3.888889e+04 train accuracy: 0.323327 val accuracy: 0.348000\n",
      "lr 4.111111e-07 reg 4.166667e+04 train accuracy: 0.328673 val accuracy: 0.349000\n",
      "lr 4.111111e-07 reg 4.444444e+04 train accuracy: 0.331245 val accuracy: 0.343000\n",
      "lr 4.111111e-07 reg 4.722222e+04 train accuracy: 0.332939 val accuracy: 0.351000\n",
      "lr 4.111111e-07 reg 5.000000e+04 train accuracy: 0.331041 val accuracy: 0.344000\n",
      "lr 4.555556e-07 reg 2.500000e+04 train accuracy: 0.324388 val accuracy: 0.345000\n",
      "lr 4.555556e-07 reg 2.777778e+04 train accuracy: 0.323959 val accuracy: 0.342000\n",
      "lr 4.555556e-07 reg 3.055556e+04 train accuracy: 0.329857 val accuracy: 0.350000\n",
      "lr 4.555556e-07 reg 3.333333e+04 train accuracy: 0.331714 val accuracy: 0.346000\n",
      "lr 4.555556e-07 reg 3.611111e+04 train accuracy: 0.334469 val accuracy: 0.343000\n",
      "lr 4.555556e-07 reg 3.888889e+04 train accuracy: 0.327469 val accuracy: 0.346000\n",
      "lr 4.555556e-07 reg 4.166667e+04 train accuracy: 0.328776 val accuracy: 0.339000\n",
      "lr 4.555556e-07 reg 4.444444e+04 train accuracy: 0.328265 val accuracy: 0.347000\n",
      "lr 4.555556e-07 reg 4.722222e+04 train accuracy: 0.328510 val accuracy: 0.344000\n",
      "lr 4.555556e-07 reg 5.000000e+04 train accuracy: 0.334367 val accuracy: 0.347000\n",
      "lr 5.000000e-07 reg 2.500000e+04 train accuracy: 0.329571 val accuracy: 0.345000\n",
      "lr 5.000000e-07 reg 2.777778e+04 train accuracy: 0.332857 val accuracy: 0.353000\n",
      "lr 5.000000e-07 reg 3.055556e+04 train accuracy: 0.327143 val accuracy: 0.345000\n",
      "lr 5.000000e-07 reg 3.333333e+04 train accuracy: 0.329306 val accuracy: 0.342000\n",
      "lr 5.000000e-07 reg 3.611111e+04 train accuracy: 0.329796 val accuracy: 0.344000\n",
      "lr 5.000000e-07 reg 3.888889e+04 train accuracy: 0.324388 val accuracy: 0.345000\n",
      "lr 5.000000e-07 reg 4.166667e+04 train accuracy: 0.330776 val accuracy: 0.343000\n",
      "lr 5.000000e-07 reg 4.444444e+04 train accuracy: 0.324531 val accuracy: 0.336000\n",
      "lr 5.000000e-07 reg 4.722222e+04 train accuracy: 0.331000 val accuracy: 0.342000\n",
      "lr 5.000000e-07 reg 5.000000e+04 train accuracy: 0.327327 val accuracy: 0.343000\n",
      "best validation accuracy achieved during cross-validation: 0.354000\n"
     ]
    }
   ],
   "source": [
    "# Use the validation set to tune hyperparameters (regularization strength and\n",
    "# learning rate). You should experiment with different ranges for the learning\n",
    "# rates and regularization strengths; if you are careful you should be able to\n",
    "# get a classification accuracy of over 0.35 on the validation set.\n",
    "from cs231n.classifiers import Softmax\n",
    "results = {}\n",
    "best_val = -1\n",
    "best_softmax = None\n",
    "learning_rates = [1e-7, 5e-7]\n",
    "regularization_strengths = [2.5e4, 5e4]\n",
    "\n",
    "################################################################################\n",
    "# TODO:                                                                        #\n",
    "# Use the validation set to set the learning rate and regularization strength. #\n",
    "# This should be identical to the validation that you did for the SVM; save    #\n",
    "# the best trained softmax classifer in best_softmax.                          #\n",
    "################################################################################\n",
    "import itertools\n",
    "num_iters = 10\n",
    "learning_rates  = np.linspace(learning_rates[0], learning_rates[1], num_iters)\n",
    "regularization_strengths  = np.linspace(regularization_strengths[0],\n",
    "                                        regularization_strengths[1], num_iters)\n",
    "for lr, reg in itertools.product(learning_rates, regularization_strengths):\n",
    "    softmax = Softmax()\n",
    "    softmax.train(X_train, y_train, learning_rate=1e-7, reg=2.5e4,\n",
    "                  num_iters=1500, verbose=False)\n",
    "    train = np.mean(y_train == softmax.predict(X_train))\n",
    "    val = np.mean(y_val == softmax.predict(X_val))\n",
    "    results[(lr, reg)] = (train, val)\n",
    "    if val > best_val:\n",
    "        best_val = val\n",
    "        best_softmax = softmax\n",
    "################################################################################\n",
    "#                              END OF YOUR CODE                                #\n",
    "################################################################################\n",
    "    \n",
    "# Print out results.\n",
    "for lr, reg in sorted(results):\n",
    "    train_accuracy, val_accuracy = results[(lr, reg)]\n",
    "    print('lr %e reg %e train accuracy: %f val accuracy: %f' % (\n",
    "                lr, reg, train_accuracy, val_accuracy))\n",
    "    \n",
    "print('best validation accuracy achieved during cross-validation: %f' % best_val)"
   ]
  },
  {
   "cell_type": "code",
   "execution_count": 25,
   "metadata": {},
   "outputs": [
    {
     "name": "stdout",
     "output_type": "stream",
     "text": [
      "softmax on raw pixels final test set accuracy: 0.345000\n"
     ]
    }
   ],
   "source": [
    "# evaluate on test set\n",
    "# Evaluate the best softmax on test set\n",
    "y_test_pred = best_softmax.predict(X_test)\n",
    "test_accuracy = np.mean(y_test == y_test_pred)\n",
    "print('softmax on raw pixels final test set accuracy: %f' % (test_accuracy, ))"
   ]
  },
  {
   "cell_type": "markdown",
   "metadata": {},
   "source": [
    "**Inline Question** - *True or False*\n",
    "\n",
    "It's possible to add a new datapoint to a training set that would leave the SVM loss unchanged, but this is not the case with the Softmax classifier loss.\n",
    "\n",
    "*Your answer*:\n",
    "\n",
    "*Your explanation*:"
   ]
  },
  {
   "cell_type": "code",
   "execution_count": 26,
   "metadata": {},
   "outputs": [
    {
     "data": {
      "image/png": "[encoded data removed]",
      "text/plain": [
       "<matplotlib.figure.Figure at 0x7f2f8813eb70>"
      ]
     },
     "metadata": {},
     "output_type": "display_data"
    }
   ],
   "source": [
    "# Visualize the learned weights for each class\n",
    "w = best_softmax.W[:-1,:] # strip out the bias\n",
    "w = w.reshape(32, 32, 3, 10)\n",
    "\n",
    "w_min, w_max = np.min(w), np.max(w)\n",
    "\n",
    "classes = ['plane', 'car', 'bird', 'cat', 'deer', 'dog', 'frog', 'horse', 'ship', 'truck']\n",
    "for i in range(10):\n",
    "    plt.subplot(2, 5, i + 1)\n",
    "    \n",
    "    # Rescale the weights to be between 0 and 255\n",
    "    wimg = 255.0 * (w[:, :, :, i].squeeze() - w_min) / (w_max - w_min)\n",
    "    plt.imshow(wimg.astype('uint8'))\n",
    "    plt.axis('off')\n",
    "    plt.title(classes[i])"
   ]
  },
  {
   "cell_type": "code",
   "execution_count": null,
   "metadata": {},
   "outputs": [],
   "source": []
  }
 ],
 "metadata": {
  "kernelspec": {
   "display_name": "Python 3",
   "language": "python",
   "name": "python3"
  },
  "language_info": {
   "codemirror_mode": {
    "name": "ipython",
    "version": 3
   },
   "file_extension": ".py",
   "mimetype": "text/x-python",
   "name": "python",
   "nbconvert_exporter": "python",
   "pygments_lexer": "ipython3",
   "version": "3.6.4"
  }
 },
 "nbformat": 4,
 "nbformat_minor": 2
}
